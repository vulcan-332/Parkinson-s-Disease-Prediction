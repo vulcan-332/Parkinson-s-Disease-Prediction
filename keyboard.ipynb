{
 "cells": [
  {
   "cell_type": "markdown",
   "metadata": {},
   "source": [
    "This notebook is for creating a compiled dataset to work with."
   ]
  },
  {
   "cell_type": "code",
   "execution_count": 3,
   "metadata": {},
   "outputs": [],
   "source": [
    "import pickle\n",
    "import numpy as np\n",
    "import pandas as pd"
   ]
  },
  {
   "cell_type": "code",
   "execution_count": 4,
   "metadata": {},
   "outputs": [],
   "source": [
    "sdata = pickle.load(open('typing_sdata.pickle', 'rb'))\n",
    "subject_list = list(sdata.keys())"
   ]
  },
  {
   "cell_type": "code",
   "execution_count": 14,
   "metadata": {},
   "outputs": [],
   "source": [
    "subject_data = sdata[subject_list[0]]\n",
    "typing_histograms = subject_data[0]\n",
    "num_typing_sessions_for_subject = len(typing_histograms)"
   ]
  },
  {
   "cell_type": "code",
   "execution_count": 15,
   "metadata": {},
   "outputs": [
    {
     "data": {
      "text/plain": [
       "409"
      ]
     },
     "execution_count": 15,
     "metadata": {},
     "output_type": "execute_result"
    }
   ],
   "source": [
    "num_typing_sessions_for_subject"
   ]
  },
  {
   "cell_type": "code",
   "execution_count": 22,
   "metadata": {},
   "outputs": [],
   "source": [
    "import pandas as pd\n",
    "import os\n",
    "import pickle\n",
    "USER_DATA_ROOT = 'D:/Cornell Academics/Fall/Product Studio/iPrognosis Data/iprognosis_data/iprognosis_typing_dev/Data'"
   ]
  },
  {
   "cell_type": "code",
   "execution_count": 67,
   "metadata": {},
   "outputs": [],
   "source": [
    "def condition_frame(df):\n",
    "    df['Release'] = df['Release'].apply(lambda x: x.split(' ')[1])\n",
    "    \n",
    "    return(df)"
   ]
  },
  {
   "cell_type": "code",
   "execution_count": 70,
   "metadata": {},
   "outputs": [],
   "source": [
    "def user_to_frame(user_id, path):\n",
    "    files = os.listdir(path)\n",
    "    frames = []\n",
    "    cols = ['Junk', 'Press', 'Release', 'Normed Pressure']\n",
    "    for fi in files:\n",
    "        df = pd.read_csv(f'{path}/{fi}', names=cols)\n",
    "        df = condition_frame(df)\n",
    "        df['Subject ID'] = user_id  # Add the SubjectID column\n",
    "        frames.append(df)\n",
    "    big_frame = pd.concat(frames)\n",
    "    return big_frame\n"
   ]
  },
  {
   "cell_type": "code",
   "execution_count": 71,
   "metadata": {},
   "outputs": [],
   "source": [
    "def main():\n",
    "    user_list = [f'S0{x}' for x in range(1, 10)]\n",
    "    user_list.extend([f'S{x}' for x in range(10, 34)])\n",
    "    frames = []\n",
    "    for user_id in user_list:\n",
    "        path = f'{USER_DATA_ROOT}/{user_id}'\n",
    "        frame = user_to_frame(user_id, path)  # Call user_to_frame with the user_id\n",
    "        frames.append(frame)\n",
    "    full_data_frame = pd.concat(frames, ignore_index=True)  # Concatenate all frames and reset the index\n",
    "    return full_data_frame"
   ]
  },
  {
   "cell_type": "code",
   "execution_count": 72,
   "metadata": {},
   "outputs": [],
   "source": [
    "frames_master = main()"
   ]
  },
  {
   "cell_type": "code",
   "execution_count": 88,
   "metadata": {},
   "outputs": [],
   "source": [
    "frames_master['Subject ID'] = frames_master['Subject ID'].str.lstrip('S').str.lstrip('0').astype(int)"
   ]
  },
  {
   "cell_type": "code",
   "execution_count": 89,
   "metadata": {},
   "outputs": [
    {
     "data": {
      "text/html": [
       "<div>\n",
       "<style scoped>\n",
       "    .dataframe tbody tr th:only-of-type {\n",
       "        vertical-align: middle;\n",
       "    }\n",
       "\n",
       "    .dataframe tbody tr th {\n",
       "        vertical-align: top;\n",
       "    }\n",
       "\n",
       "    .dataframe thead th {\n",
       "        text-align: right;\n",
       "    }\n",
       "</style>\n",
       "<table border=\"1\" class=\"dataframe\">\n",
       "  <thead>\n",
       "    <tr style=\"text-align: right;\">\n",
       "      <th></th>\n",
       "      <th>Junk</th>\n",
       "      <th>Press</th>\n",
       "      <th>Release</th>\n",
       "      <th>Normed Pressure</th>\n",
       "      <th>Subject ID</th>\n",
       "    </tr>\n",
       "  </thead>\n",
       "  <tbody>\n",
       "    <tr>\n",
       "      <th>0</th>\n",
       "      <td>Press</td>\n",
       "      <td>16144290</td>\n",
       "      <td>16144380</td>\n",
       "      <td>0.5750</td>\n",
       "      <td>1</td>\n",
       "    </tr>\n",
       "    <tr>\n",
       "      <th>1</th>\n",
       "      <td>Press</td>\n",
       "      <td>16156363</td>\n",
       "      <td>16156478</td>\n",
       "      <td>0.3875</td>\n",
       "      <td>1</td>\n",
       "    </tr>\n",
       "    <tr>\n",
       "      <th>2</th>\n",
       "      <td>Press</td>\n",
       "      <td>16157517</td>\n",
       "      <td>16157625</td>\n",
       "      <td>0.5625</td>\n",
       "      <td>1</td>\n",
       "    </tr>\n",
       "    <tr>\n",
       "      <th>3</th>\n",
       "      <td>Press</td>\n",
       "      <td>16158215</td>\n",
       "      <td>16158330</td>\n",
       "      <td>0.5000</td>\n",
       "      <td>1</td>\n",
       "    </tr>\n",
       "    <tr>\n",
       "      <th>4</th>\n",
       "      <td>Press</td>\n",
       "      <td>16160974</td>\n",
       "      <td>16161072</td>\n",
       "      <td>0.6250</td>\n",
       "      <td>1</td>\n",
       "    </tr>\n",
       "  </tbody>\n",
       "</table>\n",
       "</div>"
      ],
      "text/plain": [
       "    Junk     Press   Release  Normed Pressure  Subject ID\n",
       "0  Press  16144290  16144380           0.5750           1\n",
       "1  Press  16156363  16156478           0.3875           1\n",
       "2  Press  16157517  16157625           0.5625           1\n",
       "3  Press  16158215  16158330           0.5000           1\n",
       "4  Press  16160974  16161072           0.6250           1"
      ]
     },
     "execution_count": 89,
     "metadata": {},
     "output_type": "execute_result"
    }
   ],
   "source": [
    "frames_master.head()"
   ]
  },
  {
   "cell_type": "code",
   "execution_count": 91,
   "metadata": {},
   "outputs": [],
   "source": [
    "patient_info_df = pd.read_csv('iprognosis_typing_dev/Demographics_Clinical_Characteristics.csv')"
   ]
  },
  {
   "cell_type": "code",
   "execution_count": 92,
   "metadata": {},
   "outputs": [
    {
     "data": {
      "text/plain": [
       "dtype('int32')"
      ]
     },
     "execution_count": 92,
     "metadata": {},
     "output_type": "execute_result"
    }
   ],
   "source": [
    "frames_master['Subject ID'].dtypes"
   ]
  },
  {
   "cell_type": "code",
   "execution_count": 139,
   "metadata": {},
   "outputs": [],
   "source": [
    "merged_df = frames_master.merge(patient_info_df, on='Subject ID', how='left')"
   ]
  },
  {
   "cell_type": "code",
   "execution_count": 140,
   "metadata": {},
   "outputs": [
    {
     "data": {
      "text/plain": [
       "Index(['Junk', 'Press', 'Release', 'Normed Pressure', 'Subject ID',\n",
       "       'Age (years)', 'Gender', 'Education level', 'Years of smartphone usage',\n",
       "       'Dominant hand', 'Group', 'Years from diagnosis', 'Hoehn & Yahr stage',\n",
       "       'Most affected side (PD patients only)',\n",
       "       'Levodopa Equivalent Daily Dose (LEDD) (mg)', 'UPDRS_III Total score',\n",
       "       'UPDRS_III Item 21 Tremor-Right hand',\n",
       "       'UPDRS_III Item 21 Tremor-Left hand',\n",
       "       'UPDRS_III Item 22 Rigidity-Right hand',\n",
       "       'UPDRS_III Item 22 Rigidity-Left hand',\n",
       "       'UPDRS_III Item 23 Finger Taps-Right hand',\n",
       "       'UPDRS_III Item 23 Finger Taps-Left hand',\n",
       "       'UPDRS_III Item 31 Body Bradykinesia/Hypokinesia'],\n",
       "      dtype='object')"
      ]
     },
     "execution_count": 140,
     "metadata": {},
     "output_type": "execute_result"
    }
   ],
   "source": [
    "merged_df.columns"
   ]
  },
  {
   "cell_type": "code",
   "execution_count": 141,
   "metadata": {},
   "outputs": [],
   "source": [
    "columns_to_drop = ['Junk','Dominant hand','Hoehn & Yahr stage',\n",
    "       'Most affected side (PD patients only)','Years from diagnosis',\n",
    "       'Levodopa Equivalent Daily Dose (LEDD) (mg)', 'UPDRS_III Total score',\n",
    "       'UPDRS_III Item 21 Tremor-Right hand',\n",
    "       'UPDRS_III Item 21 Tremor-Left hand',\n",
    "       'UPDRS_III Item 22 Rigidity-Right hand',\n",
    "       'UPDRS_III Item 22 Rigidity-Left hand',\n",
    "       'UPDRS_III Item 23 Finger Taps-Right hand',\n",
    "       'UPDRS_III Item 23 Finger Taps-Left hand',\n",
    "       'UPDRS_III Item 31 Body Bradykinesia/Hypokinesia']\n",
    "merged_df =merged_df.drop(columns=columns_to_drop)"
   ]
  },
  {
   "cell_type": "code",
   "execution_count": 142,
   "metadata": {},
   "outputs": [],
   "source": [
    "merged_df['Release'] = merged_df['Release'].astype('int32')"
   ]
  },
  {
   "cell_type": "code",
   "execution_count": 143,
   "metadata": {},
   "outputs": [],
   "source": [
    "merged_df['delta'] = merged_df['Release'].subtract(merged_df['Press'])"
   ]
  },
  {
   "cell_type": "code",
   "execution_count": 144,
   "metadata": {},
   "outputs": [],
   "source": [
    "merged_df['Wait_Time'] = merged_df.groupby('Subject ID').apply(\n",
    "    lambda group: group['Press'] - group['Release'].shift(1)\n",
    ").reset_index(level=0, drop=True)\n"
   ]
  },
  {
   "cell_type": "code",
   "execution_count": 147,
   "metadata": {},
   "outputs": [
    {
     "data": {
      "text/html": [
       "<div>\n",
       "<style scoped>\n",
       "    .dataframe tbody tr th:only-of-type {\n",
       "        vertical-align: middle;\n",
       "    }\n",
       "\n",
       "    .dataframe tbody tr th {\n",
       "        vertical-align: top;\n",
       "    }\n",
       "\n",
       "    .dataframe thead th {\n",
       "        text-align: right;\n",
       "    }\n",
       "</style>\n",
       "<table border=\"1\" class=\"dataframe\">\n",
       "  <thead>\n",
       "    <tr style=\"text-align: right;\">\n",
       "      <th></th>\n",
       "      <th>Press</th>\n",
       "      <th>Release</th>\n",
       "      <th>Normed Pressure</th>\n",
       "      <th>Subject ID</th>\n",
       "      <th>Age (years)</th>\n",
       "      <th>Gender</th>\n",
       "      <th>Education level</th>\n",
       "      <th>Years of smartphone usage</th>\n",
       "      <th>Group</th>\n",
       "      <th>delta</th>\n",
       "      <th>Wait_Time</th>\n",
       "    </tr>\n",
       "  </thead>\n",
       "  <tbody>\n",
       "    <tr>\n",
       "      <th>0</th>\n",
       "      <td>16144290</td>\n",
       "      <td>16144380</td>\n",
       "      <td>0.5750</td>\n",
       "      <td>1</td>\n",
       "      <td>69</td>\n",
       "      <td>Male</td>\n",
       "      <td>High school graduate</td>\n",
       "      <td>3</td>\n",
       "      <td>PD</td>\n",
       "      <td>90</td>\n",
       "      <td>NaN</td>\n",
       "    </tr>\n",
       "    <tr>\n",
       "      <th>1</th>\n",
       "      <td>16156363</td>\n",
       "      <td>16156478</td>\n",
       "      <td>0.3875</td>\n",
       "      <td>1</td>\n",
       "      <td>69</td>\n",
       "      <td>Male</td>\n",
       "      <td>High school graduate</td>\n",
       "      <td>3</td>\n",
       "      <td>PD</td>\n",
       "      <td>115</td>\n",
       "      <td>11983.0</td>\n",
       "    </tr>\n",
       "    <tr>\n",
       "      <th>2</th>\n",
       "      <td>16157517</td>\n",
       "      <td>16157625</td>\n",
       "      <td>0.5625</td>\n",
       "      <td>1</td>\n",
       "      <td>69</td>\n",
       "      <td>Male</td>\n",
       "      <td>High school graduate</td>\n",
       "      <td>3</td>\n",
       "      <td>PD</td>\n",
       "      <td>108</td>\n",
       "      <td>1039.0</td>\n",
       "    </tr>\n",
       "    <tr>\n",
       "      <th>3</th>\n",
       "      <td>16158215</td>\n",
       "      <td>16158330</td>\n",
       "      <td>0.5000</td>\n",
       "      <td>1</td>\n",
       "      <td>69</td>\n",
       "      <td>Male</td>\n",
       "      <td>High school graduate</td>\n",
       "      <td>3</td>\n",
       "      <td>PD</td>\n",
       "      <td>115</td>\n",
       "      <td>590.0</td>\n",
       "    </tr>\n",
       "    <tr>\n",
       "      <th>4</th>\n",
       "      <td>16160974</td>\n",
       "      <td>16161072</td>\n",
       "      <td>0.6250</td>\n",
       "      <td>1</td>\n",
       "      <td>69</td>\n",
       "      <td>Male</td>\n",
       "      <td>High school graduate</td>\n",
       "      <td>3</td>\n",
       "      <td>PD</td>\n",
       "      <td>98</td>\n",
       "      <td>2644.0</td>\n",
       "    </tr>\n",
       "    <tr>\n",
       "      <th>...</th>\n",
       "      <td>...</td>\n",
       "      <td>...</td>\n",
       "      <td>...</td>\n",
       "      <td>...</td>\n",
       "      <td>...</td>\n",
       "      <td>...</td>\n",
       "      <td>...</td>\n",
       "      <td>...</td>\n",
       "      <td>...</td>\n",
       "      <td>...</td>\n",
       "      <td>...</td>\n",
       "    </tr>\n",
       "    <tr>\n",
       "      <th>26533</th>\n",
       "      <td>610585103</td>\n",
       "      <td>610585160</td>\n",
       "      <td>0.7250</td>\n",
       "      <td>33</td>\n",
       "      <td>53</td>\n",
       "      <td>Male</td>\n",
       "      <td>University graduate</td>\n",
       "      <td>6</td>\n",
       "      <td>Control</td>\n",
       "      <td>57</td>\n",
       "      <td>176.0</td>\n",
       "    </tr>\n",
       "    <tr>\n",
       "      <th>26534</th>\n",
       "      <td>610585427</td>\n",
       "      <td>610585484</td>\n",
       "      <td>0.6000</td>\n",
       "      <td>33</td>\n",
       "      <td>53</td>\n",
       "      <td>Male</td>\n",
       "      <td>University graduate</td>\n",
       "      <td>6</td>\n",
       "      <td>Control</td>\n",
       "      <td>57</td>\n",
       "      <td>267.0</td>\n",
       "    </tr>\n",
       "    <tr>\n",
       "      <th>26535</th>\n",
       "      <td>610585943</td>\n",
       "      <td>610585992</td>\n",
       "      <td>0.8375</td>\n",
       "      <td>33</td>\n",
       "      <td>53</td>\n",
       "      <td>Male</td>\n",
       "      <td>University graduate</td>\n",
       "      <td>6</td>\n",
       "      <td>Control</td>\n",
       "      <td>49</td>\n",
       "      <td>459.0</td>\n",
       "    </tr>\n",
       "    <tr>\n",
       "      <th>26536</th>\n",
       "      <td>610589510</td>\n",
       "      <td>610589573</td>\n",
       "      <td>0.7375</td>\n",
       "      <td>33</td>\n",
       "      <td>53</td>\n",
       "      <td>Male</td>\n",
       "      <td>University graduate</td>\n",
       "      <td>6</td>\n",
       "      <td>Control</td>\n",
       "      <td>63</td>\n",
       "      <td>3518.0</td>\n",
       "    </tr>\n",
       "    <tr>\n",
       "      <th>26537</th>\n",
       "      <td>610590114</td>\n",
       "      <td>610590163</td>\n",
       "      <td>0.9125</td>\n",
       "      <td>33</td>\n",
       "      <td>53</td>\n",
       "      <td>Male</td>\n",
       "      <td>University graduate</td>\n",
       "      <td>6</td>\n",
       "      <td>Control</td>\n",
       "      <td>49</td>\n",
       "      <td>541.0</td>\n",
       "    </tr>\n",
       "  </tbody>\n",
       "</table>\n",
       "<p>26538 rows × 11 columns</p>\n",
       "</div>"
      ],
      "text/plain": [
       "           Press    Release  Normed Pressure  Subject ID  Age (years) Gender  \\\n",
       "0       16144290   16144380           0.5750           1           69   Male   \n",
       "1       16156363   16156478           0.3875           1           69   Male   \n",
       "2       16157517   16157625           0.5625           1           69   Male   \n",
       "3       16158215   16158330           0.5000           1           69   Male   \n",
       "4       16160974   16161072           0.6250           1           69   Male   \n",
       "...          ...        ...              ...         ...          ...    ...   \n",
       "26533  610585103  610585160           0.7250          33           53   Male   \n",
       "26534  610585427  610585484           0.6000          33           53   Male   \n",
       "26535  610585943  610585992           0.8375          33           53   Male   \n",
       "26536  610589510  610589573           0.7375          33           53   Male   \n",
       "26537  610590114  610590163           0.9125          33           53   Male   \n",
       "\n",
       "            Education level  Years of smartphone usage    Group  delta  \\\n",
       "0      High school graduate                          3       PD     90   \n",
       "1      High school graduate                          3       PD    115   \n",
       "2      High school graduate                          3       PD    108   \n",
       "3      High school graduate                          3       PD    115   \n",
       "4      High school graduate                          3       PD     98   \n",
       "...                     ...                        ...      ...    ...   \n",
       "26533   University graduate                          6  Control     57   \n",
       "26534   University graduate                          6  Control     57   \n",
       "26535   University graduate                          6  Control     49   \n",
       "26536   University graduate                          6  Control     63   \n",
       "26537   University graduate                          6  Control     49   \n",
       "\n",
       "       Wait_Time  \n",
       "0            NaN  \n",
       "1        11983.0  \n",
       "2         1039.0  \n",
       "3          590.0  \n",
       "4         2644.0  \n",
       "...          ...  \n",
       "26533      176.0  \n",
       "26534      267.0  \n",
       "26535      459.0  \n",
       "26536     3518.0  \n",
       "26537      541.0  \n",
       "\n",
       "[26538 rows x 11 columns]"
      ]
     },
     "execution_count": 147,
     "metadata": {},
     "output_type": "execute_result"
    }
   ],
   "source": [
    "merged_df"
   ]
  },
  {
   "cell_type": "code",
   "execution_count": 149,
   "metadata": {},
   "outputs": [],
   "source": [
    "merged_df.to_csv('Patient_Keyboard_Data_Final.csv')"
   ]
  }
 ],
 "metadata": {
  "kernelspec": {
   "display_name": "Python 3",
   "language": "python",
   "name": "python3"
  },
  "language_info": {
   "codemirror_mode": {
    "name": "ipython",
    "version": 3
   },
   "file_extension": ".py",
   "mimetype": "text/x-python",
   "name": "python",
   "nbconvert_exporter": "python",
   "pygments_lexer": "ipython3",
   "version": "3.9.0"
  }
 },
 "nbformat": 4,
 "nbformat_minor": 2
}
